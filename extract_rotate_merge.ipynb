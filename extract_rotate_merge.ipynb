{
 "cells": [
  {
   "cell_type": "code",
   "execution_count": 1,
   "metadata": {},
   "outputs": [],
   "source": [
    "#import\n",
    "import cv2\n",
    "import math\n",
    "import numpy as np\n",
    "import PIL\n",
    "import os\n",
    "import fnmatch\n",
    "import pathlib\n",
    "from PIL import Image\n",
    "from natsort import natsorted, realsorted, humansorted, ns\n",
    "import datetime\n"
   ]
  },
  {
   "cell_type": "code",
   "execution_count": 6,
   "metadata": {},
   "outputs": [],
   "source": [
    "#MOVIE\n",
    "movie= \"f_vier\"\n",
    "filetype= \"mp4\"\n",
    "spf = 30 # second per frame\n",
    "width = 100 #Pixel\n",
    "height = 1000 #Pixel\n",
    "rot= 0 #degree rotation\n",
    "#fps = 25"
   ]
  },
  {
   "cell_type": "code",
   "execution_count": 7,
   "metadata": {},
   "outputs": [
    {
     "name": "stdout",
     "output_type": "stream",
     "text": [
      "3.4.0\n",
      "max frame = 109554\n",
      "fps = 25\n",
      "modf = 750\n",
      "pics = 146.072\n",
      "0/0 750/1 1500/2 2250/3 3000/4 3750/5 4500/6 5250/7 6000/8 6750/9 7500/10 8250/11 9000/12 9750/13 10500/14 11250/15 12000/16 12750/17 13500/18 14250/19 15000/20 15750/21 16500/22 17250/23 18000/24 18750/25 19500/26 20250/27 21000/28 21750/29 22500/30 23250/31 24000/32 24750/33 25500/34 26250/35 27000/36 27750/37 28500/38 29250/39 30000/40 30750/41 31500/42 32250/43 33000/44 33750/45 34500/46 35250/47 36000/48 36750/49 37500/50 38250/51 39000/52 39750/53 40500/54 41250/55 42000/56 42750/57 43500/58 44250/59 45000/60 45750/61 46500/62 47250/63 48000/64 48750/65 49500/66 50250/67 51000/68 51750/69 52500/70 53250/71 54000/72 54750/73 55500/74 56250/75 57000/76 57750/77 58500/78 59250/79 60000/80 60750/81 61500/82 62250/83 63000/84 63750/85 64500/86 65250/87 66000/88 66750/89 67500/90 68250/91 69000/92 69750/93 70500/94 71250/95 72000/96 72750/97 73500/98 74250/99 75000/100 75750/101 76500/102 77250/103 78000/104 78750/105 79500/106 80250/107 81000/108 81750/109 82500/110 83250/111 84000/112 84750/113 85500/114 86250/115 87000/116 87750/117 88500/118 89250/119 90000/120 90750/121 91500/122 92250/123 93000/124 93750/125 94500/126 95250/127 96000/128 96750/129 97500/130 98250/131 99000/132 99750/133 100500/134 101250/135 102000/136 102750/137 103500/138 104250/139 105000/140 105750/141 106500/142 107250/143 108000/144 108750/145 109500/146 success\n"
     ]
    }
   ],
   "source": [
    "#EXTRACT\n",
    "\n",
    "\n",
    "#maxf = 100 #max frame \n",
    "\n",
    "print(cv2.__version__)\n",
    "\n",
    "vidcap = cv2.VideoCapture(str(movie)+\".\"+str(filetype)) # path to file\n",
    "\n",
    "maxf = int(vidcap.get(cv2.CAP_PROP_FRAME_COUNT)) # max frame\n",
    "fps = int(vidcap.get(cv2.CAP_PROP_FPS)) \n",
    "success,image = vidcap.read() #read frame\n",
    "\n",
    "#var for loop and print\n",
    "count = 0\n",
    "print_count = 0\n",
    "success = True\n",
    "modf =spf*fps #count for modulo\n",
    "pic_count = maxf / modf\n",
    "\n",
    "\n",
    "#print settings\n",
    "print(\"max frame = \"+str(maxf),\n",
    "     \"fps = \"+str(fps),\n",
    "     \"modf = \"+str(modf),\n",
    "     \"pics = \"+str(pic_count),sep=\"\\n\")\n",
    "\n",
    "\n",
    "### Array mit Frames ist vielleicht schneller ###\n",
    "\n",
    "#image loop \n",
    "while (success) and (count < maxf):\n",
    "    success,image = vidcap.read()\n",
    "    if math.fmod(count,modf) == 0:\n",
    "        cv2.imwrite(movie+\" \"+str(print_count)+\".tiff\", image)     # save frame as JPEG file\n",
    "        print (str(count)+\"/\"+str(print_count),end=' '), success\n",
    "        print_count += 1\n",
    "#    else:\n",
    "#        print(\"...\"+ str(count) +\"...\")\n",
    "    count += 1\n",
    "\n",
    "#close file\n",
    "vidcap.release()\n",
    "print(\"success\")"
   ]
  },
  {
   "cell_type": "code",
   "execution_count": 28,
   "metadata": {},
   "outputs": [
    {
     "name": "stdout",
     "output_type": "stream",
     "text": [
      "C:\\Users\\fabs\\Desktop\\stackim\n",
      "['f_vier 0.tiff', 'f_vier 1.tiff', 'f_vier 2.tiff', 'f_vier 3.tiff', 'f_vier 4.tiff', 'f_vier 5.tiff', 'f_vier 6.tiff', 'f_vier 7.tiff', 'f_vier 8.tiff', 'f_vier 9.tiff', 'f_vier 10.tiff', 'f_vier 11.tiff', 'f_vier 12.tiff', 'f_vier 13.tiff', 'f_vier 14.tiff']\n"
     ]
    }
   ],
   "source": [
    "#ROTATE and RESIZE\n",
    "pattern = str(movie+\"*.tiff\")\n",
    "print(os.getcwd())# Work dic\n",
    "image_list = natsorted(fnmatch.filter(os.listdir(os.getcwd()), pattern))#filter dir\n",
    "count = 0\n",
    "for im in image_list:  \n",
    "    filename = im\n",
    "    count += 1\n",
    "    image = Image.open(filename)\n",
    "    image_rot = image.rotate(rot,PIL.Image.LANCZOS, expand=1)\n",
    "    new_img = image_rot.resize((width,height),PIL.Image.LANCZOS)\n",
    "    new_img.save(str(im),dpi=(300,300), optimize=True)\n",
    "    new_img.save(str(os.path.join(os.getcwd(),\"rot\",str(im))),dpi=(300,300), optimize=True)\n",
    "#    image_rot.save(str(filename+\"_rot.jpg\"),'jpeg',dpi=(300,300), optimize=True)\n",
    "print(image_list[0:15])"
   ]
  },
  {
   "cell_type": "code",
   "execution_count": 29,
   "metadata": {},
   "outputs": [
    {
     "name": "stdout",
     "output_type": "stream",
     "text": [
      "147\n",
      "147\n",
      "0\n",
      "['f_vier 0.tiff', 'f_vier 1.tiff', 'f_vier 2.tiff', 'f_vier 3.tiff', 'f_vier 4.tiff', 'f_vier 5.tiff', 'f_vier 6.tiff', 'f_vier 7.tiff', 'f_vier 8.tiff', 'f_vier 9.tiff', 'f_vier 10.tiff', 'f_vier 11.tiff', 'f_vier 12.tiff', 'f_vier 13.tiff', 'f_vier 14.tiff']\n"
     ]
    }
   ],
   "source": [
    "#MERGE I\n",
    "\n",
    "#movie =\n",
    "pattern2 = str(\"*.tiff\")\n",
    "images_list = os.listdir(r\"C:\\Users\\fabs\\Desktop\\stackim\\rot\")\n",
    "#print (images_list)\n",
    "images_list = natsorted(fnmatch.filter(images_list, pattern2))#filter dir\n",
    "#print (images_list)\n",
    "#images_list.sort()\n",
    "images_list1 = images_list[:600] #Max for JPG\n",
    "images_list2 = images_list[600:]\n",
    "imgs1 = [ Image.open(i) for i in images_list1 ]\n",
    "imgs2 = [ Image.open(i) for i in images_list2 ]\n",
    "print(len(images_list))\n",
    "print(len(images_list1))\n",
    "print(len(images_list2))\n",
    "print (images_list[0:15])"
   ]
  },
  {
   "cell_type": "code",
   "execution_count": 30,
   "metadata": {},
   "outputs": [
    {
     "name": "stdout",
     "output_type": "stream",
     "text": [
      "['f_vier_h1_2018-04-06-21-43.tiff']\n"
     ]
    }
   ],
   "source": [
    "#MERGE II\n",
    "\n",
    "now = datetime.datetime.now()\n",
    "img_merge = np.hstack( (np.asarray(i) for i in imgs1 ) )\n",
    "img_merge = Image.fromarray( img_merge)\n",
    "img_merge.save( str(movie+'_h1_'+now.strftime(\"%Y-%m-%d-%H-%M\")+'.tiff') )\n",
    "\n",
    "if len(images_list2)>0:\n",
    "    img_merge = np.hstack( (np.asarray(i) for i in imgs2 ) )\n",
    "    img_merge = Image.fromarray( img_merge)\n",
    "    img_merge.save( str(movie+'_h2_'+now.strftime(\"%Y-%m-%d-%H-%M\")+'.tiff') )\n",
    "\n",
    "mergelist = natsorted(fnmatch.filter(os.listdir(os.getcwd()), str(movie+\"_h*.tiff\")))#filter dir\n",
    "print (mergelist)\n",
    "\n"
   ]
  },
  {
   "cell_type": "code",
   "execution_count": 31,
   "metadata": {},
   "outputs": [],
   "source": [
    "#delete Files\n",
    "\n",
    "for im in image_list:\n",
    "    os.remove(im)\n",
    "    os.remove(os.path.join(os.getcwd(),\"rot\",str(im)))\n",
    "    "
   ]
  },
  {
   "cell_type": "code",
   "execution_count": null,
   "metadata": {},
   "outputs": [],
   "source": []
  },
  {
   "cell_type": "code",
   "execution_count": null,
   "metadata": {},
   "outputs": [],
   "source": []
  },
  {
   "cell_type": "code",
   "execution_count": null,
   "metadata": {},
   "outputs": [],
   "source": []
  }
 ],
 "metadata": {
  "kernelspec": {
   "display_name": "Python 3",
   "language": "python",
   "name": "python3"
  },
  "language_info": {
   "codemirror_mode": {
    "name": "ipython",
    "version": 3
   },
   "file_extension": ".py",
   "mimetype": "text/x-python",
   "name": "python",
   "nbconvert_exporter": "python",
   "pygments_lexer": "ipython3",
   "version": "3.6.6"
  }
 },
 "nbformat": 4,
 "nbformat_minor": 4
}
