{
 "cells": [
  {
   "cell_type": "code",
   "execution_count": 1,
   "metadata": {},
   "outputs": [],
   "source": [
    "#import\n",
    "import cv2\n",
    "import math\n",
    "import numpy as np\n",
    "import PIL\n",
    "import os\n",
    "import fnmatch\n",
    "import pathlib\n",
    "from PIL import Image\n",
    "from natsort import natsorted, realsorted, humansorted, ns\n",
    "import datetime\n"
   ]
  },
  {
   "cell_type": "code",
   "execution_count": 2,
   "metadata": {},
   "outputs": [],
   "source": [
    "#MOVIE Config\n",
    "movie= \"TITLE\"\n",
    "filetype= \"mp4\"\n",
    "spf = 30 # seconds per frame extraction\n",
    "width = 10 #Pixel\n",
    "height = 1000 #Pixel\n",
    "rot= 0 #degree rotation 0 = 90 degree right\n",
    "#fps = 25"
   ]
  },
  {
   "cell_type": "code",
   "execution_count": 4,
   "metadata": {},
   "outputs": [
    {
     "name": "stdout",
     "output_type": "stream",
     "text": [
      "3.4.0\n",
      "max frame = 235152\n",
      "fps = 23\n",
      "modf = 690\n",
      "pics = 340.8\n",
      "0/0 690/1 1380/2 2070/3 2760/4 3450/5 4140/6 4830/7 5520/8 6210/9 6900/10 7590/11 8280/12 8970/13 9660/14 10350/15 11040/16 11730/17 12420/18 13110/19 13800/20 14490/21 15180/22 15870/23 16560/24 17250/25 17940/26 18630/27 19320/28 20010/29 20700/30 21390/31 22080/32 22770/33 23460/34 24150/35 24840/36 25530/37 26220/38 26910/39 27600/40 28290/41 28980/42 29670/43 30360/44 31050/45 31740/46 32430/47 33120/48 33810/49 34500/50 35190/51 35880/52 36570/53 37260/54 37950/55 38640/56 39330/57 40020/58 40710/59 41400/60 42090/61 42780/62 43470/63 44160/64 44850/65 45540/66 46230/67 46920/68 47610/69 48300/70 48990/71 49680/72 50370/73 51060/74 51750/75 52440/76 53130/77 53820/78 54510/79 55200/80 55890/81 56580/82 57270/83 57960/84 58650/85 59340/86 60030/87 60720/88 61410/89 62100/90 62790/91 63480/92 64170/93 64860/94 65550/95 66240/96 66930/97 67620/98 68310/99 69000/100 69690/101 70380/102 71070/103 71760/104 72450/105 73140/106 73830/107 74520/108 75210/109 75900/110 76590/111 77280/112 77970/113 78660/114 79350/115 80040/116 80730/117 81420/118 82110/119 82800/120 83490/121 84180/122 84870/123 85560/124 86250/125 86940/126 87630/127 88320/128 89010/129 89700/130 90390/131 91080/132 91770/133 92460/134 93150/135 93840/136 94530/137 95220/138 95910/139 96600/140 97290/141 97980/142 98670/143 99360/144 100050/145 100740/146 101430/147 102120/148 102810/149 103500/150 104190/151 104880/152 105570/153 106260/154 106950/155 107640/156 108330/157 109020/158 109710/159 110400/160 111090/161 111780/162 112470/163 113160/164 113850/165 114540/166 115230/167 115920/168 116610/169 117300/170 117990/171 118680/172 119370/173 120060/174 120750/175 121440/176 122130/177 122820/178 123510/179 124200/180 124890/181 125580/182 126270/183 126960/184 127650/185 128340/186 129030/187 129720/188 130410/189 131100/190 131790/191 132480/192 133170/193 133860/194 134550/195 135240/196 135930/197 136620/198 137310/199 138000/200 138690/201 139380/202 140070/203 140760/204 141450/205 142140/206 142830/207 143520/208 144210/209 144900/210 145590/211 146280/212 146970/213 147660/214 148350/215 149040/216 149730/217 150420/218 151110/219 151800/220 152490/221 153180/222 153870/223 154560/224 155250/225 155940/226 156630/227 157320/228 158010/229 158700/230 159390/231 160080/232 160770/233 161460/234 162150/235 162840/236 163530/237 164220/238 164910/239 165600/240 166290/241 166980/242 167670/243 168360/244 169050/245 169740/246 170430/247 171120/248 171810/249 172500/250 173190/251 173880/252 174570/253 175260/254 175950/255 176640/256 177330/257 178020/258 178710/259 179400/260 180090/261 180780/262 181470/263 182160/264 182850/265 183540/266 184230/267 184920/268 185610/269 186300/270 186990/271 187680/272 188370/273 189060/274 189750/275 190440/276 191130/277 191820/278 192510/279 193200/280 193890/281 194580/282 195270/283 195960/284 196650/285 197340/286 198030/287 198720/288 199410/289 200100/290 200790/291 201480/292 202170/293 202860/294 203550/295 204240/296 204930/297 205620/298 206310/299 207000/300 207690/301 208380/302 209070/303 209760/304 210450/305 211140/306 211830/307 212520/308 213210/309 213900/310 214590/311 215280/312 215970/313 216660/314 217350/315 218040/316 218730/317 219420/318 220110/319 220800/320 221490/321 222180/322 222870/323 223560/324 224250/325 224940/326 225630/327 226320/328 227010/329 227700/330 228390/331 229080/332 229770/333 230460/334 231150/335 231840/336 232530/337 233220/338 233910/339 234600/340 success\n"
     ]
    }
   ],
   "source": [
    "#EXTRACT\n",
    "\n",
    "\n",
    "#maxf = 100 #max frame \n",
    "\n",
    "print(cv2.__version__)\n",
    "\n",
    "vidcap = cv2.VideoCapture(str(movie)+\".\"+str(filetype)) # path to file\n",
    "\n",
    "maxf = int(vidcap.get(cv2.CAP_PROP_FRAME_COUNT)) # max frame\n",
    "fps = int(vidcap.get(cv2.CAP_PROP_FPS)) \n",
    "success,image = vidcap.read() #read frame\n",
    "\n",
    "#var for loop and print\n",
    "count = 0\n",
    "print_count = 0\n",
    "success = True\n",
    "modf =spf*fps #count for modulo\n",
    "pic_count = maxf / modf\n",
    "\n",
    "\n",
    "#print settings\n",
    "print(\"max frame = \"+str(maxf),\n",
    "     \"fps = \"+str(fps),\n",
    "     \"modf = \"+str(modf),\n",
    "     \"pics = \"+str(pic_count),sep=\"\\n\")\n",
    "\n",
    "\n",
    "### Array with frames maybe faster ###\n",
    "\n",
    "#image loop \n",
    "while (success) and (count < maxf):\n",
    "    success,image = vidcap.read()\n",
    "    if math.fmod(count,modf) == 0:\n",
    "        cv2.imwrite(movie+\" \"+str(print_count)+\".png\", image)     # save frame as PNG file\n",
    "        print (str(count)+\"/\"+str(print_count),end=' '), success\n",
    "        print_count += 1\n",
    "#    else:\n",
    "#        print(\"...\"+ str(count) +\"...\")\n",
    "    count += 1\n",
    "\n",
    "#close file\n",
    "vidcap.release()\n",
    "print(\"success\")"
   ]
  },
  {
   "cell_type": "code",
   "execution_count": 5,
   "metadata": {},
   "outputs": [
    {
     "name": "stdout",
     "output_type": "stream",
     "text": [
      "E:\\Desktop\\stackim\n",
      "['br2049 0.png', 'br2049 1.png', 'br2049 2.png', 'br2049 3.png', 'br2049 4.png', 'br2049 5.png', 'br2049 6.png', 'br2049 7.png', 'br2049 8.png', 'br2049 9.png', 'br2049 10.png', 'br2049 11.png', 'br2049 12.png', 'br2049 13.png', 'br2049 14.png']\n"
     ]
    }
   ],
   "source": [
    "#ROTATE and RESIZE\n",
    "pattern = str(movie+\"*.png\")\n",
    "print(os.getcwd())# Work dic\n",
    "image_list = natsorted(fnmatch.filter(os.listdir(os.getcwd()), pattern))#filter dir\n",
    "count = 0\n",
    "for im in image_list:  \n",
    "    filename = im\n",
    "    count += 1\n",
    "    image = Image.open(filename)\n",
    "    image_rot = image.rotate(rot,PIL.Image.LANCZOS, expand=1)\n",
    "    new_img = image_rot.resize((width,height),PIL.Image.LANCZOS)\n",
    "    new_img.save(str(im),dpi=(300,300), optimize=True)\n",
    "    new_img.save(str(os.path.join(os.getcwd(),\"rot\",str(im))),dpi=(300,300), optimize=True)\n",
    "#    image_rot.save(str(filename+\"_rot.jpg\"),'jpeg',dpi=(300,300), optimize=True)\n",
    "print(image_list[0:15])"
   ]
  },
  {
   "cell_type": "code",
   "execution_count": 19,
   "metadata": {},
   "outputs": [
    {
     "name": "stdout",
     "output_type": "stream",
     "text": [
      "341\n",
      "341\n",
      "0\n",
      "['br2049 0.png', 'br2049 1.png', 'br2049 2.png', 'br2049 3.png', 'br2049 4.png', 'br2049 5.png', 'br2049 6.png', 'br2049 7.png', 'br2049 8.png', 'br2049 9.png', 'br2049 10.png', 'br2049 11.png', 'br2049 12.png', 'br2049 13.png', 'br2049 14.png']\n"
     ]
    }
   ],
   "source": [
    "#MERGE I\n",
    "\n",
    "#movie =\n",
    "pattern2 = str(\"*.png\")\n",
    "images_list = os.listdir(str(os.getcwd())+str(\"/rot\"))\n",
    "#print (images_list)\n",
    "images_list = natsorted(fnmatch.filter(images_list, pattern2))#filter dir\n",
    "#print (images_list)\n",
    "#images_list.sort()\n",
    "images_list1 = images_list[:600] #Max for JPG\n",
    "images_list2 = images_list[600:]\n",
    "imgs1 = [ Image.open(i) for i in images_list1 ]\n",
    "imgs2 = [ Image.open(i) for i in images_list2 ]\n",
    "print(len(images_list))\n",
    "print(len(images_list1))\n",
    "print(len(images_list2))\n",
    "print (images_list[0:15])"
   ]
  },
  {
   "cell_type": "code",
   "execution_count": 20,
   "metadata": {},
   "outputs": [
    {
     "name": "stdout",
     "output_type": "stream",
     "text": [
      "['br2049_h1_2020-02-28-08-52.tiff']\n"
     ]
    }
   ],
   "source": [
    "#MERGE II\n",
    "\n",
    "now = datetime.datetime.now()\n",
    "img_merge = np.hstack( (np.asarray(i) for i in imgs1 ) )\n",
    "img_merge = Image.fromarray( img_merge)\n",
    "img_merge.save( str(movie+'_h1_'+now.strftime(\"%Y-%m-%d-%H-%M\")+'.tiff') )\n",
    "\n",
    "if len(images_list2)>0:\n",
    "    img_merge = np.hstack( (np.asarray(i) for i in imgs2 ) )\n",
    "    img_merge = Image.fromarray( img_merge)\n",
    "    img_merge.save( str(movie+'_h2_'+now.strftime(\"%Y-%m-%d-%H-%M\")+'.tiff') )\n",
    "\n",
    "mergelist = natsorted(fnmatch.filter(os.listdir(os.getcwd()), str(movie+\"_h*.tiff\")))#filter dir\n",
    "print (mergelist)\n",
    "\n"
   ]
  },
  {
   "cell_type": "code",
   "execution_count": 21,
   "metadata": {},
   "outputs": [],
   "source": [
    "#delete Files\n",
    "\n",
    "for im in image_list:\n",
    "    os.remove(im)\n",
    "    os.remove(os.path.join(os.getcwd(),\"rot\",str(im)))\n",
    "    "
   ]
  },
  {
   "cell_type": "code",
   "execution_count": null,
   "metadata": {},
   "outputs": [],
   "source": []
  },
  {
   "cell_type": "code",
   "execution_count": null,
   "metadata": {},
   "outputs": [],
   "source": []
  },
  {
   "cell_type": "code",
   "execution_count": null,
   "metadata": {},
   "outputs": [],
   "source": []
  }
 ],
 "metadata": {
  "kernelspec": {
   "display_name": "Python 3",
   "language": "python",
   "name": "python3"
  },
  "language_info": {
   "codemirror_mode": {
    "name": "ipython",
    "version": 3
   },
   "file_extension": ".py",
   "mimetype": "text/x-python",
   "name": "python",
   "nbconvert_exporter": "python",
   "pygments_lexer": "ipython3",
   "version": "3.6.6"
  }
 },
 "nbformat": 4,
 "nbformat_minor": 4
}
